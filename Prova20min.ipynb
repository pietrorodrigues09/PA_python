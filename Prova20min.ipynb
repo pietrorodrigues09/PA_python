{
  "nbformat": 4,
  "nbformat_minor": 0,
  "metadata": {
    "colab": {
      "provenance": [],
      "authorship_tag": "ABX9TyOjfoeZE1dbbg93uDhiGaZB",
      "include_colab_link": true
    },
    "kernelspec": {
      "name": "python3",
      "display_name": "Python 3"
    },
    "language_info": {
      "name": "python"
    }
  },
  "cells": [
    {
      "cell_type": "markdown",
      "metadata": {
        "id": "view-in-github",
        "colab_type": "text"
      },
      "source": [
        "<a href=\"https://colab.research.google.com/github/pietrorodrigues09/PA_python/blob/main/Prova20min.ipynb\" target=\"_parent\"><img src=\"https://colab.research.google.com/assets/colab-badge.svg\" alt=\"Open In Colab\"/></a>"
      ]
    },
    {
      "cell_type": "markdown",
      "source": [
        "1)\tDetector de Fases da Lua (Situação hipotética)\n",
        "Faça um programa que pergunte o dia do mês (1 a 31) Não aceite valores fora desse intervalo.\n",
        "Baseado no dia, informe a provável fase da lua:\n",
        "•  Dia 1 a 7: Lua Nova\n",
        "•  Dia 8 a 14: Quarto Crescente\n",
        "•  Dia 15 a 21: Lua Cheia\n",
        "•  Dia 22 a 29: Quarto Minguante\n",
        "•  Dia 30 ou mais: Início de novo ciclo luna"
      ],
      "metadata": {
        "id": "F2j448UmD01o"
      }
    },
    {
      "cell_type": "code",
      "execution_count": 10,
      "metadata": {
        "colab": {
          "base_uri": "https://localhost:8080/"
        },
        "id": "112FLHXvDsS3",
        "outputId": "eebb8ec6-8f1f-4f40-8ad0-78c53563a94a"
      },
      "outputs": [
        {
          "output_type": "stream",
          "name": "stdout",
          "text": [
            "Digite o dia do mes 9\n",
            "Data válida\n",
            "Lua Nova\n"
          ]
        }
      ],
      "source": [
        "dia = int(input(\"Digite o dia do mes \"))\n",
        "\n",
        "if dia>= 1 and  dia<=31:\n",
        "  print(\"Data válida\")\n",
        "  if dia>= 1 and dia<= 7:\n",
        "    print(\"Lua Nova\")\n",
        "  elif dia>= 8 and dia<= 14:\n",
        "    print(\"Quarto Crescente\")\n",
        "  elif dia>= 15 and dia<= 21:\n",
        "    print(\"Lua Cheia\")\n",
        "  elif dia>= 22 and dia<= 29:\n",
        "    print(\"Quarto Minguante\")\n",
        "  else:\n",
        "    print(\"Novo Ciclo Lunar\")\n",
        "else:\n",
        "  print(\"Data inválida\")"
      ]
    },
    {
      "cell_type": "markdown",
      "source": [
        "2)\tCrie um programa que simule a entrada de um jogador em uma batalha de RPG. O usuário deverá informar:\n",
        "•\tSua classe: \"mago\", \"guerreiro\" ou \"arqueiro\" (deve dar erro se as entradas forem diferentes dessas.\n",
        "•\tSua energia (valor de 0 a 100)\n",
        "Regras de entrada:\n",
        "•\tMagos: precisam ter energia > 60\n",
        "•\tGuerreiros: energia > 40\n",
        "•\tArqueiros: energia > 50\n",
        "Se puder entrar na batalha, o programa deve calcular um dano base diferente para cada classe:\n",
        "•\tMago: dano = energia × 1.5\n",
        "•\tGuerreiro: dano = energia × 2\n",
        "•\tArqueiro: dano = energia × 1.2\n",
        "O programa deve exibir:\n",
        "•\tSe o jogador pode ou não entrar\n",
        "•\tE, se puder, mostrar seu dano base calculado\n",
        "Exemplo da saída:\n",
        "Classe: guerreiro\n",
        "Energia: 55\n",
        "Você pode entrar na batalha!\n",
        "Dano base: 110.0\n"
      ],
      "metadata": {
        "id": "eKrUBVHpFkE_"
      }
    },
    {
      "cell_type": "code",
      "source": [
        "energia = int(input(\"Digite a sua quantidade de energia \"))\n",
        "if energia>= 0 and energia<= 100:\n",
        "  classe = str(input(\"Digite a sua classe: \"))\n",
        "\n",
        "  if classe == \"mago\":\n",
        "    energia = energia * 1.5\n",
        "    if energia > 60:\n",
        "      print(f\"Entrou na batalha, com {energia} de energia \")\n",
        "    else:\n",
        "      print(\"Sem energia para isso\")\n",
        "\n",
        "  elif classe == \"guerreiro\":\n",
        "    energia = energia * 2\n",
        "    if energia > 40:\n",
        "      print(f\"Entrou na batalha, com {energia} de energia \")\n",
        "    else:\n",
        "      print(\"Sem energia para isso\")\n",
        "\n",
        "  elif classe == \"arqueiro\":\n",
        "    energia = energia * 1.2\n",
        "    if energia > 50:\n",
        "      print(f\"Entrou na batalha, com {energia} de energia \")\n",
        "    else:\n",
        "      print(\"Sem energia para isso\")\n",
        "\n",
        "  else:\n",
        "    print(\"Classe inválida\")\n",
        "else:\n",
        "  print(\"Energia inválida\")"
      ],
      "metadata": {
        "colab": {
          "base_uri": "https://localhost:8080/"
        },
        "id": "ZmrIEi7KFjyp",
        "outputId": "353a37bc-22e6-4965-969d-03a509376d10"
      },
      "execution_count": 20,
      "outputs": [
        {
          "output_type": "stream",
          "name": "stdout",
          "text": [
            "Digite a sua quantidade de energia30\n",
            "Digite a sua classe: arqueiro\n",
            "Sem energia para isso\n"
          ]
        }
      ]
    },
    {
      "cell_type": "markdown",
      "source": [
        "Descrição do Algoritmo:\n",
        "1. Início\n",
        "\n",
        "•\tSolicita-se a renda familiar mensal (em reais).\n",
        "\n",
        "2. Validação da Renda\n",
        "\n",
        "•\tSe a renda familiar for menor que 0, exibir:\n",
        "\n",
        "➤ \"Renda inválida\"\n",
        "\n",
        "•\tSe a renda familiar for maior que R$ 5.000, exibir:\n",
        "\n",
        "➤ \"Não participa da bolsa. Só participam candidatos com renda menor ou igual a R$ 5.000.\"\n",
        "\n",
        "3. Tipo de Escola\n",
        "\n",
        "•\tSolicitar o tipo de escola do candidato: \"pública\" ou \"particular\".\n",
        "\n",
        "•\tSe for outro valor, exibir:\n",
        "\n",
        "➤ \"Tipo de escola inválido\"\n",
        "\n",
        "➤ Encerrar o programa.\n",
        "\n",
        "4. Notas Anuais\n",
        "\n",
        "•\tSolicitar as três últimas notas anuais nas disciplinas:\n",
        "\n",
        "o\tMatemática\n",
        "\n",
        "o\tPortuguês\n",
        "\n",
        "o\tConhecimentos Gerais\n",
        "\n",
        "•\tPara cada nota, validar se está entre 1 e 10:\n",
        "\n",
        "o\tSe alguma estiver fora desse intervalo, exibir erro específico:\n",
        "\n",
        "➤ \"Nota inválida. Reinicie o preenchimento.\"\n",
        "\n",
        "➤ Encerrar o programa.\n",
        "\n",
        "•\tCalcular a média simples das três notas.\n",
        "\n",
        "Observação: Essa média poderá ser superior a 10 após os bônus.\n",
        "\n",
        "\n",
        "Processamento por Tipo de Escola e Média\n",
        "\n",
        "Se a escola for pública:\n",
        "\n",
        "Média ≥ 8:\n",
        "\n",
        "•\tAumentar a média em 20%;\n",
        "\n",
        "•\tSe a renda < R$ 3.000, aplicar mais 15% sobre o novo valor da média.\n",
        "\n",
        "Média ≥ 6 e < 8:\n",
        "\n",
        "•\tAumentar a média em 10%;\n",
        "\n",
        "•\tSe a renda < R$ 3.000, aplicar mais 5% sobre o novo valor da média.\n",
        "\n",
        "Média < 6:\n",
        "\n",
        "•\tExibir:\n",
        "\n",
        "➤ \"Não concorre à bolsa por nota baixa.\"\n",
        "\n",
        "Se a escola for particular:\n",
        "\n",
        "Média ≥ 8:\n",
        "\n",
        "•\tAumentar a média em 5%;\n",
        "\n",
        "•\tSe a renda < R$ 3.000, aplicar mais 15% sobre o novo valor da média.\n",
        "\n",
        "Média ≥ 6 e < 8:\n",
        "\n",
        "•\tAumentar a média em 2,5%;\n",
        "\n",
        "•\tSe a renda < R$ 3.000, aplicar mais 2% sobre o novo valor da média.\n",
        "\n",
        "Média < 6:\n",
        "\n",
        "•\tExibir:\n",
        "\n",
        "➤ \"Não concorre à bolsa por nota baixa.\"\n",
        "\n"
      ],
      "metadata": {
        "id": "9SfMFB8RM2lw"
      }
    },
    {
      "cell_type": "code",
      "source": [
        "renda_familiar = float(input(\"Digite a renda mensal da sua familia\"))\n",
        "\n",
        "if renda_familiar < 0:\n",
        "  print(\"Renda inválida\")\n",
        "elif renda_familiar > 5000:\n",
        "  print(\"Não participa da bolsa. Só participam candidatos com renda menor ou igual a R$ 5.000.\")\n",
        "else:\n",
        "  escola = int(input(\"Digite 1 para publica\\n Digite 2 para particular\\n:\"))\n",
        "  if escola == 1 or escola == 2:\n",
        "    nota_mat = float(input(\"Digite a última nota anual em matemática: \"))\n",
        "    nota_lp = float(input(\"Digite a última nota anual em Lingua Portuguesa: \"))\n",
        "    nota_cg = float(input(\"Digite a última nota anual em Conhecimentos Gerais: \"))\n",
        "    if (nota_mat >=1 and nota_mat <=10) and (nota_lp >=1 and nota_lp <= 10) and (nota_cg >=1 and nota_cg <= 10):\n",
        "      media = (nota_mat + nota_lp + nota_cg)/3\n",
        "      print(f\"Sua média atual é de:\",media)\n",
        "    else:\n",
        "      print(\"Nota inválida. Reinicie o preenchimento.\")\n",
        "\n",
        "    if escola == 1:\n",
        "      if media >= 8:\n",
        "        media_bonus = (media * 20)/100 + media\n",
        "        print(f\"Sua média após o bonus de escola pública é {media_bonus}\")\n",
        "        if renda_familiar < 3000:\n",
        "         media_bonus = (media_bonus * 15)/100 + media_bonus\n",
        "         print(\"Sua média após o bonus de escolaridade e renda é\", media_bonus)\n",
        "\n",
        "\n",
        "      elif media >= 6 and media <=8:\n",
        "        media_bonus = (media * 10)/100 + media\n",
        "        print(media_bonus)\n",
        "        if renda_familiar < 3000:\n",
        "         media_bonus = (media_bonus * 5)/100 + media_bonus\n",
        "         print(\"Sua média após o bonus de escolaridade e renda é\", media_bonus)\n",
        "\n",
        "      elif media < 6:\n",
        "        print(\"Não concore à bolsa por nota baixa\")\n",
        "\n",
        "    elif escola == 2:\n",
        "      if media >= 8:\n",
        "        media_bonus = (media * 5)/100 + media\n",
        "        print(f\"Sua média após o bonus de escola particular é {media_bonus}\")\n",
        "        if renda_familiar < 3000:\n",
        "         media_bonus = (media_bonus * 15)/100 + media_bonus\n",
        "         print(\"Sua média após o bonus de escolaridade e renda é\", media_bonus)\n",
        "\n",
        "\n",
        "      elif media >= 6 and media <=8:\n",
        "        media_bonus = (media * 2.5)/100 + media\n",
        "        print(f\"Sua média após o bonus de escola particular é {media_bonus}\")\n",
        "        if renda_familiar < 3000:\n",
        "         media_bonus = (media_bonus * 2)/100 + media_bonus\n",
        "         print(\"Sua média após o bonus de escolaridade e renda é\", media_bonus)\n",
        "\n",
        "      elif media < 6:\n",
        "        print(\"Não concore à bolsa por nota baixa\")\n",
        "  else:\n",
        "    print(\"Tipo de escola inválido\")"
      ],
      "metadata": {
        "colab": {
          "base_uri": "https://localhost:8080/"
        },
        "id": "rsgusvkPNj9o",
        "outputId": "ae83fb07-51df-4e7d-a075-b8d25867f632"
      },
      "execution_count": 58,
      "outputs": [
        {
          "output_type": "stream",
          "name": "stdout",
          "text": [
            "Digite a renda mensal da sua familia2000\n",
            "Digite 1 para publica\n",
            " Digite 2 para particular\n",
            ":2\n",
            "Digite a última nota anual em matemática: 8\n",
            "Digite a última nota anual em Lingua Portuguesa: 8\n",
            "Digite a última nota anual em Conhecimentos Gerais: 8\n",
            "Sua média atual é de: 8.0\n",
            "Sua média após o bonus de escola particular é 8.4\n",
            "Sua média após o bonus de escolaridade e renda é 9.66\n"
          ]
        }
      ]
    },
    {
      "cell_type": "code",
      "source": [],
      "metadata": {
        "id": "8rhl_MJ1P_BM"
      },
      "execution_count": null,
      "outputs": []
    }
  ]
}