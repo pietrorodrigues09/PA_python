{
  "nbformat": 4,
  "nbformat_minor": 0,
  "metadata": {
    "colab": {
      "provenance": [],
      "authorship_tag": "ABX9TyMMu0t6cTqka0B8cTDRZ36s",
      "include_colab_link": true
    },
    "kernelspec": {
      "name": "python3",
      "display_name": "Python 3"
    },
    "language_info": {
      "name": "python"
    }
  },
  "cells": [
    {
      "cell_type": "markdown",
      "metadata": {
        "id": "view-in-github",
        "colab_type": "text"
      },
      "source": [
        "<a href=\"https://colab.research.google.com/github/pietrorodrigues09/PA_python/blob/main/variaveiseoperadoresaritmeticos/Variaveis_e_Constantes.ipynb\" target=\"_parent\"><img src=\"https://colab.research.google.com/assets/colab-badge.svg\" alt=\"Open In Colab\"/></a>"
      ]
    },
    {
      "cell_type": "markdown",
      "source": [
        "# Variaveis e Constantes\n",
        "\n",
        "## O que são variáveis?\n",
        "\n",
        "Espaços na memória que armazenam dados que podem ser alterados durante a execução do programa."
      ],
      "metadata": {
        "id": "-llO0hMf7UTd"
      }
    },
    {
      "cell_type": "code",
      "execution_count": null,
      "metadata": {
        "id": "HnyZOv6S6im5",
        "colab": {
          "base_uri": "https://localhost:8080/"
        },
        "outputId": "19704a0d-925b-4fd7-e58c-671bd2b3a93e"
      },
      "outputs": [
        {
          "output_type": "stream",
          "name": "stdout",
          "text": [
            "nome: Pietro Rodrigues Cunha, idade: 15\n",
            "------------------------------------------------------------\n",
            "O nome da pessoa é: Pietro Rodrigues Cunha \n",
            "Sua idade é:  15\n"
          ]
        }
      ],
      "source": [
        "nome = \"Pietro Rodrigues Cunha\"\n",
        "idade = 15\n",
        "print(f\"nome: {nome}, idade: {idade}\")\n",
        "print(\"------------------------------------------------------------\")\n",
        "print(\"O nome da pessoa é:\", nome,\"\\nSua idade é: \",idade)"
      ]
    },
    {
      "cell_type": "markdown",
      "source": [],
      "metadata": {
        "id": "hwQLDq-Z7fNw"
      }
    },
    {
      "cell_type": "code",
      "source": [],
      "metadata": {
        "id": "JlVucJ1s7gI7"
      },
      "execution_count": null,
      "outputs": []
    },
    {
      "cell_type": "code",
      "source": [
        "nome = \"Helena\"\n",
        "idade = \"8\"\n",
        "print(f\"nome: {nome}, idade:{idade}\")\n",
        "print(\"-------------------------------------------\")\n",
        "print(\"o nome da minha irmã é:\", nome,\"\\nsua idade é:\",idade)"
      ],
      "metadata": {
        "colab": {
          "base_uri": "https://localhost:8080/"
        },
        "id": "2rWVpahN-3B-",
        "outputId": "b13f41d2-b6ce-44fd-bcc3-a8186b21c68b"
      },
      "execution_count": null,
      "outputs": [
        {
          "output_type": "stream",
          "name": "stdout",
          "text": [
            "nome: Helena, idade:8\n",
            "-------------------------------------------\n",
            "o nome da minha irmã é: Helena \n",
            "sua idade é: 8\n"
          ]
        }
      ]
    },
    {
      "cell_type": "markdown",
      "source": [
        "# tipos de dados\n"
      ],
      "metadata": {
        "id": "lmK5Mp77VVSd"
      }
    },
    {
      "cell_type": "code",
      "source": [
        "nome = \"pietro rodrigues\"\n",
        "idade = 15\n",
        "altura = 1.82\n",
        "resp = True\n",
        "animais = [\"zuleica\", \"jujuba\" \"agripino\"]\n",
        "comidafavo = (\"hamburguer\", \"strogonoff\", \"pizza\", \"feijoada\")\n",
        "animaisdicio = {\"passarinhos\":[\"zuleica\", \"jujuba\"], \"gato\": [\"agripino\"]}\n",
        "\n"
      ],
      "metadata": {
        "id": "rlUVySgIVcBg"
      },
      "execution_count": null,
      "outputs": []
    },
    {
      "cell_type": "code",
      "source": [
        "print(\"meu nome é:\", nome,\"\\nminha idade é:\", idade,\"\\nsua altura é:\", altura,\"\\ngosta de animais?:\", resp,\"\\nos nomes dos meus animais são:\", animais,\"\\nminhas comidas favoritas são:\", comidafavo,\"\\nmeus animais são:\", animaisdicio)"
      ],
      "metadata": {
        "colab": {
          "base_uri": "https://localhost:8080/"
        },
        "id": "jIIdH7w1XuBn",
        "outputId": "0caa1e3d-5220-4306-8cd0-b3270cde24a8"
      },
      "execution_count": null,
      "outputs": [
        {
          "output_type": "stream",
          "name": "stdout",
          "text": [
            "meu nome é: pietro rodrigues \n",
            "minha idade é: 15 \n",
            "sua altura é: 1.82 \n",
            "gosta de animais?: True \n",
            "os nomes dos meus animais são: ['zuleica', 'jujubaagripino'] \n",
            "minhas comidas favoritas são: ('hamburguer', 'strogonoff', 'pizza', 'feijoada') \n",
            "meus animais são: {'passarinhos': ['zuleica', 'jujuba'], 'gato': ['agripino']}\n"
          ]
        }
      ]
    },
    {
      "cell_type": "code",
      "source": [
        "print(type(nome))\n",
        "print(type(idade))\n",
        "print(type(altura))\n",
        "print(type(resp))\n",
        "print(type(animais))\n",
        "print(type(comidafavo))\n",
        "print(type(animaisdicio))"
      ],
      "metadata": {
        "colab": {
          "base_uri": "https://localhost:8080/"
        },
        "id": "7zIqQgxAXDEO",
        "outputId": "84a5e5cd-1c21-4c69-f86d-a18573841edd"
      },
      "execution_count": null,
      "outputs": [
        {
          "output_type": "stream",
          "name": "stdout",
          "text": [
            "<class 'str'>\n",
            "<class 'int'>\n",
            "<class 'float'>\n",
            "<class 'bool'>\n",
            "<class 'list'>\n",
            "<class 'tuple'>\n",
            "<class 'dict'>\n"
          ]
        }
      ]
    },
    {
      "cell_type": "markdown",
      "source": [
        "# Constantes"
      ],
      "metadata": {
        "id": "DzBVes4beq8O"
      }
    },
    {
      "cell_type": "markdown",
      "source": [
        "## Cauculando área"
      ],
      "metadata": {
        "id": "BKMhe5D0e-5A"
      }
    },
    {
      "cell_type": "code",
      "source": [
        "#entrada\n",
        "raio = float(input('digite o raio do circulo: '))"
      ],
      "metadata": {
        "colab": {
          "base_uri": "https://localhost:8080/"
        },
        "id": "P_UZPj0nfDv_",
        "outputId": "474a05b6-4352-4251-d752-5e6bf95fe4d2"
      },
      "execution_count": null,
      "outputs": [
        {
          "name": "stdout",
          "output_type": "stream",
          "text": [
            "digite o raio do circulo: 1554534574252\n"
          ]
        }
      ]
    },
    {
      "cell_type": "code",
      "source": [
        "#processamento\n",
        "areacirculo = 3.14159 * (raio ** 2)"
      ],
      "metadata": {
        "id": "ueRc5_WnfZX8"
      },
      "execution_count": null,
      "outputs": []
    },
    {
      "cell_type": "code",
      "source": [
        "#saida\n",
        "print(f\"a área do circulo é: {areacirculo:.2f}\")"
      ],
      "metadata": {
        "colab": {
          "base_uri": "https://localhost:8080/"
        },
        "id": "2pzWjBMqf4Li",
        "outputId": "4e0485c3-02ce-435b-9950-60764ec1bf95"
      },
      "execution_count": null,
      "outputs": [
        {
          "output_type": "stream",
          "name": "stdout",
          "text": [
            "a área do circulo é: 7591896470201465158238208.00\n"
          ]
        }
      ]
    },
    {
      "cell_type": "markdown",
      "source": [
        "## area do quadrado"
      ],
      "metadata": {
        "id": "-v4gjF64leSO"
      }
    },
    {
      "cell_type": "code",
      "source": [
        "#entrada\n",
        "lado = float(input('digite o lado do quadrado: '))"
      ],
      "metadata": {
        "colab": {
          "base_uri": "https://localhost:8080/"
        },
        "id": "Pj1EVCcBlj5W",
        "outputId": "e0b8ae07-2ed3-456b-9d65-d0c0271a071d"
      },
      "execution_count": null,
      "outputs": [
        {
          "name": "stdout",
          "output_type": "stream",
          "text": [
            "digite o lado do quadrado: 10\n"
          ]
        }
      ]
    },
    {
      "cell_type": "code",
      "source": [
        "#processamento\n",
        "areaquadrado = lado ** 2"
      ],
      "metadata": {
        "id": "LaYyywrgltLv"
      },
      "execution_count": null,
      "outputs": []
    },
    {
      "cell_type": "code",
      "source": [
        "#saida\n",
        "print(f\"a area do quadrado é: {areaquadrado:.2f}\")"
      ],
      "metadata": {
        "colab": {
          "base_uri": "https://localhost:8080/"
        },
        "id": "DGlaia13l4jY",
        "outputId": "632e91e7-d869-4608-f6f9-c252f9253083"
      },
      "execution_count": null,
      "outputs": [
        {
          "output_type": "stream",
          "name": "stdout",
          "text": [
            "a area do quadrado é: 100.00\n"
          ]
        }
      ]
    },
    {
      "cell_type": "markdown",
      "source": [
        "## área do retangulo"
      ],
      "metadata": {
        "id": "DQz3zWVom9Od"
      }
    },
    {
      "cell_type": "code",
      "source": [
        "# entrada\n",
        "base = float(input(\"digite a base do retangulo: \"))\n",
        "altra = float(input(\"didgite a altura do retangulo: \"))"
      ],
      "metadata": {
        "colab": {
          "base_uri": "https://localhost:8080/"
        },
        "id": "iId99mOUnEJU",
        "outputId": "c9c89d57-9433-45a5-bcd3-d30b142a3a55"
      },
      "execution_count": null,
      "outputs": [
        {
          "name": "stdout",
          "output_type": "stream",
          "text": [
            "digite a base do retangulo: 8\n",
            "didgite a altura do retangulo: 15\n"
          ]
        }
      ]
    },
    {
      "cell_type": "code",
      "source": [
        "#processamento\n",
        "arearetangulo = base * altra"
      ],
      "metadata": {
        "id": "GzoFGFDfnlX2"
      },
      "execution_count": null,
      "outputs": []
    },
    {
      "cell_type": "code",
      "source": [
        "#saida\n",
        "print(f\"a área do retangulo é: {arearetangulo:.2f}\")"
      ],
      "metadata": {
        "colab": {
          "base_uri": "https://localhost:8080/"
        },
        "id": "x2YfHeRdnt4I",
        "outputId": "683c875c-5927-4b37-8198-19e7ea8feb84"
      },
      "execution_count": null,
      "outputs": [
        {
          "output_type": "stream",
          "name": "stdout",
          "text": [
            "a área do retangulo é: 120.00\n"
          ]
        }
      ]
    },
    {
      "cell_type": "markdown",
      "source": [
        "## perímetro do circulo\n"
      ],
      "metadata": {
        "id": "F7hPM-FWoW1U"
      }
    },
    {
      "cell_type": "code",
      "source": [
        "#entrada\n",
        "PI = 3.14159\n",
        "raio = float(input('digite o raio do circulo: '))"
      ],
      "metadata": {
        "colab": {
          "base_uri": "https://localhost:8080/"
        },
        "id": "Xm3ADFmCoezs",
        "outputId": "6fe23253-3dd4-4e48-f806-5ab9884cc716"
      },
      "execution_count": null,
      "outputs": [
        {
          "name": "stdout",
          "output_type": "stream",
          "text": [
            "digite o raio do circulo: 100\n"
          ]
        }
      ]
    },
    {
      "cell_type": "code",
      "source": [
        "#prcessamento\n",
        "perimetrocirculo = 2*PI*raio"
      ],
      "metadata": {
        "id": "3_JJCUyio38e"
      },
      "execution_count": null,
      "outputs": []
    },
    {
      "cell_type": "code",
      "source": [
        "print(f'o perimetro d circulo é : {perimetrocirculo:.2f} ')"
      ],
      "metadata": {
        "colab": {
          "base_uri": "https://localhost:8080/"
        },
        "id": "s3SOI5DbpEue",
        "outputId": "afaca98f-d880-4546-b7a4-797bb648540c"
      },
      "execution_count": null,
      "outputs": [
        {
          "output_type": "stream",
          "name": "stdout",
          "text": [
            "o perimetro d circulo é : 628.32 \n"
          ]
        }
      ]
    },
    {
      "cell_type": "markdown",
      "source": [
        "## Conversão de Temperatura"
      ],
      "metadata": {
        "id": "LccHMoxjpT1W"
      }
    },
    {
      "cell_type": "code",
      "source": [
        "#entrada\n",
        "Fahrenheit = float(input('digite a temperatura em fahrenheit: '))"
      ],
      "metadata": {
        "colab": {
          "base_uri": "https://localhost:8080/"
        },
        "id": "2x0k_xTppXhu",
        "outputId": "5aa80dab-7400-4988-e339-19b50d522a06"
      },
      "execution_count": null,
      "outputs": [
        {
          "name": "stdout",
          "output_type": "stream",
          "text": [
            "digite a temperatura em fahrenheit: 89\n"
          ]
        }
      ]
    },
    {
      "cell_type": "code",
      "source": [
        "#processamento\n",
        "Celsius = (Fahrenheit - 32) * 5/9"
      ],
      "metadata": {
        "id": "WU_chXuGqEAJ"
      },
      "execution_count": null,
      "outputs": []
    },
    {
      "cell_type": "code",
      "source": [
        "#saida\n",
        "print(f'a temperatura em celsius é: {Celsius:.2f} °C')"
      ],
      "metadata": {
        "colab": {
          "base_uri": "https://localhost:8080/"
        },
        "id": "8zgX9D8fqXVi",
        "outputId": "786ad4c6-992a-4e0f-9af3-1da1474e0ef2"
      },
      "execution_count": null,
      "outputs": [
        {
          "output_type": "stream",
          "name": "stdout",
          "text": [
            "a temperatura em celsius é: 31.67 °C\n"
          ]
        }
      ]
    },
    {
      "cell_type": "markdown",
      "source": [
        "##Cálculo do IMC"
      ],
      "metadata": {
        "id": "-Sxqhaw_qpAb"
      }
    },
    {
      "cell_type": "code",
      "source": [
        "#entrada\n",
        "peso = float(input('digite o seu peso em kg: '))\n",
        "altura = float(input('digite a sua altura em metros'))"
      ],
      "metadata": {
        "colab": {
          "base_uri": "https://localhost:8080/"
        },
        "id": "dGDmqkgxquAL",
        "outputId": "34b0f191-ff20-4e35-d718-52e77b1ac2a1"
      },
      "execution_count": null,
      "outputs": [
        {
          "name": "stdout",
          "output_type": "stream",
          "text": [
            "digite o seu peso em kg: 58\n",
            "digite a sua altura em metros1.80\n"
          ]
        }
      ]
    },
    {
      "cell_type": "code",
      "source": [
        "#processamento\n",
        "IMC = peso / (altura ** 2)"
      ],
      "metadata": {
        "id": "cJYSV7kVrJW_"
      },
      "execution_count": null,
      "outputs": []
    },
    {
      "cell_type": "code",
      "source": [
        "#saida\n",
        "print(f'seu IMC é: {IMC:.2f}')"
      ],
      "metadata": {
        "colab": {
          "base_uri": "https://localhost:8080/"
        },
        "id": "ULDKlp0lrSD-",
        "outputId": "64dc237b-26f7-4abe-cfda-c4b14c087b2b"
      },
      "execution_count": null,
      "outputs": [
        {
          "output_type": "stream",
          "name": "stdout",
          "text": [
            "seu IMC é: 17.90\n"
          ]
        }
      ]
    },
    {
      "cell_type": "markdown",
      "source": [
        "# Codigos Dos Fluxogramas"
      ],
      "metadata": {
        "id": "wePbZgBEfPcT"
      }
    },
    {
      "cell_type": "markdown",
      "source": [
        "## Media"
      ],
      "metadata": {
        "id": "oofA2HepgG8E"
      }
    },
    {
      "cell_type": "markdown",
      "source": [
        "![image.png](data:image/png;base64,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)"
      ],
      "metadata": {
        "id": "LY-_nH49dp4D"
      }
    },
    {
      "cell_type": "code",
      "source": [
        "# recebe as notas das provas\n",
        "nota1 = float(input(\"Digite a nota da prova 1: \"))\n",
        "nota2 = float(input(\"Digite a nota da prova 2: \"))\n",
        "\n",
        "# calcula a média das provas\n",
        "media = (nota1 + nota2) / 2\n",
        "\n",
        "# mostra a media\n",
        "print(\"A média das provas é:\", media)"
      ],
      "metadata": {
        "colab": {
          "base_uri": "https://localhost:8080/"
        },
        "id": "8KKWKYfSfeoK",
        "outputId": "55f0e253-2352-44ad-ebdf-3bd7b7b95f95"
      },
      "execution_count": null,
      "outputs": [
        {
          "output_type": "stream",
          "name": "stdout",
          "text": [
            "Digite a nota da prova 1: 9\n",
            "Digite a nota da prova 2: 8\n",
            "A média das provas é: 8.5\n"
          ]
        }
      ]
    },
    {
      "cell_type": "markdown",
      "source": [
        "## Conversão De Moeda"
      ],
      "metadata": {
        "id": "y6Mk-x5NgLsM"
      }
    },
    {
      "cell_type": "code",
      "source": [],
      "metadata": {
        "id": "Qey9m-i6d02v"
      },
      "execution_count": null,
      "outputs": []
    },
    {
      "cell_type": "markdown",
      "source": [
        "![image.png](data:image/png;base64,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)"
      ],
      "metadata": {
        "id": "M-TUcb12goRe"
      }
    },
    {
      "cell_type": "code",
      "source": [
        "# recebe a cotaca do dolar em reais\n",
        "cotacao_dolar = float(input(\"Digite a cotacao do dolar: \"))\n",
        "valor_reais = float(input(\"Digite o valor em reais:\"))\n",
        "\n",
        "# converte para dolar\n",
        "valor_dolar = valor_reais/cotacao_dolar\n",
        "\n",
        "# resultado\n",
        "print(\"O valor em dolar é:\", valor_dolar)"
      ],
      "metadata": {
        "colab": {
          "base_uri": "https://localhost:8080/"
        },
        "id": "f9UyhKuxgGg7",
        "outputId": "619f258c-5457-4f5a-bfca-deccb8b054e3"
      },
      "execution_count": null,
      "outputs": [
        {
          "output_type": "stream",
          "name": "stdout",
          "text": [
            "Digite a cotacao do dolar: 5.73\n",
            "Digite o valor em reais:1000\n",
            "O valor em dolar é: 174.5200698080279\n"
          ]
        }
      ]
    },
    {
      "cell_type": "markdown",
      "source": [
        "## Comissao"
      ],
      "metadata": {
        "id": "0OZCATm2jpRA"
      }
    },
    {
      "cell_type": "markdown",
      "source": [
        "![image.png](data:image/png;base64,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)"
      ],
      "metadata": {
        "id": "DvFovj4_g8dM"
      }
    },
    {
      "cell_type": "code",
      "source": [
        "# recebe o valor e a quantidade\n",
        "valor = float(input(\"digite o valor: \"))\n",
        "quantidade = float(input(\"digite a quamtidade: \"))\n",
        "\n",
        "# caucula o valor da venda e comissao\n",
        "valor_total_venda = valor * quantidade\n",
        "comissao = valor_total_venda * 0.05\n",
        "\n",
        "# resultado\n",
        "print(f\"O valor total da venda é:\", valor_total_venda)\n",
        "print(f\"A comissao é:\", comissao)"
      ],
      "metadata": {
        "colab": {
          "base_uri": "https://localhost:8080/"
        },
        "id": "Cp2A9AvTjohp",
        "outputId": "a07eb1e7-8019-433b-8f4c-41a8688212da"
      },
      "execution_count": null,
      "outputs": [
        {
          "output_type": "stream",
          "name": "stdout",
          "text": [
            "digite o valor: 20000\n",
            "digite a quamtidade: 4\n",
            "O valor total da venda é: 80000.0\n",
            "A comissao é: 4000.0\n"
          ]
        }
      ]
    },
    {
      "cell_type": "markdown",
      "source": [
        "# Valor do Carro"
      ],
      "metadata": {
        "id": "EdixC4arsrWG"
      }
    },
    {
      "cell_type": "markdown",
      "source": [
        "![image.png](data:image/png;base64,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)"
      ],
      "metadata": {
        "id": "HF_ul5DohkKB"
      }
    },
    {
      "cell_type": "code",
      "source": [
        "# recebe o valor do carro direto da fabrica\n",
        "valordocarro = float(input(\"Digite o valor do carro: \"))\n",
        "\n",
        "# calcula o valor com os impostos\n",
        "\n",
        "imposto = (valordocarro *45/100) + valordocarro\n",
        "valorfinal = (imposto *28/100) + imposto\n",
        "\n",
        "# valor para o consumidor\n",
        "print(f\"O valor final do carro para o consumidor é: {valorfinal:.2f}\")"
      ],
      "metadata": {
        "colab": {
          "base_uri": "https://localhost:8080/"
        },
        "id": "CZQUpbBksq0q",
        "outputId": "43c0886b-2be9-407f-c69c-d3911b3a9ffc"
      },
      "execution_count": null,
      "outputs": [
        {
          "output_type": "stream",
          "name": "stdout",
          "text": [
            "Digite o valor do carro: 25000\n",
            "O valor final do carro para o consumidor é: 46400.00\n"
          ]
        }
      ]
    },
    {
      "cell_type": "markdown",
      "source": [
        "## Horas e Minutos\n"
      ],
      "metadata": {
        "id": "GDyhFYfJuCRW"
      }
    },
    {
      "cell_type": "markdown",
      "source": [
        "![image.png](data:image/png;base64,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)"
      ],
      "metadata": {
        "id": "6JEroxE4huD6"
      }
    },
    {
      "cell_type": "code",
      "source": [],
      "metadata": {
        "id": "oUiW-xOVhwNM"
      },
      "execution_count": null,
      "outputs": []
    },
    {
      "cell_type": "code",
      "source": [
        "# recebe as horas e minutos\n",
        "horas = float(input(\"digite as horas: \"))\n",
        "minutos = float(input(\"digite os minutos: \"))\n",
        "\n",
        "# converte os minutos em decimais\n",
        "convercao = (minutos / 60) + horas\n",
        "\n",
        "# horas e minutos convertidas\n",
        "print(f\"as horas convertidas em decimais são: {convercao:.2f}\")"
      ],
      "metadata": {
        "colab": {
          "base_uri": "https://localhost:8080/"
        },
        "id": "X7UCj6uGuQbG",
        "outputId": "c3278d88-7fc7-459b-af2e-1889cf2a6997"
      },
      "execution_count": null,
      "outputs": [
        {
          "output_type": "stream",
          "name": "stdout",
          "text": [
            "digite as horas: 4\n",
            "digite os minutos: 23\n",
            "as horas convertidas em decimais são: 4.38\n"
          ]
        }
      ]
    },
    {
      "cell_type": "markdown",
      "source": [
        "## Horas Extras"
      ],
      "metadata": {
        "id": "y4FzQS_w1kvM"
      }
    },
    {
      "cell_type": "markdown",
      "source": [
        "![image.png](data:image/png;base64,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)"
      ],
      "metadata": {
        "id": "rTc5BNyth9Dp"
      }
    },
    {
      "cell_type": "code",
      "source": [
        "# recebe as horas os minutos e o valor da hora\n",
        "horas = float(input(\"digite as horas: \"))\n",
        "minutos = float(input(\"digite os minutos: \"))\n",
        "valorhora = float(input(\"digite o valor da hora: \"))\n",
        "\n",
        "# converte os minutos em decimais de calcula quanto ganhara no total\n",
        "convertido = horas + (minutos/60)\n",
        "salario = (convertido * valorhora)\n",
        "salariofinal = (salario *70/100) + salario\n",
        "\n",
        "# salario final\n",
        "print(f\"o salario final é: {salariofinal:.2f}\")"
      ],
      "metadata": {
        "colab": {
          "base_uri": "https://localhost:8080/"
        },
        "id": "VB0sthXZ1o9d",
        "outputId": "6c8e7518-0d80-45ae-81b9-7f094b1fcff2"
      },
      "execution_count": null,
      "outputs": [
        {
          "output_type": "stream",
          "name": "stdout",
          "text": [
            "digite as horas: 15\n",
            "digite os minutos: 30\n",
            "digite o valor da hora: 35\n",
            "o salario final é: 922.25\n"
          ]
        }
      ]
    },
    {
      "cell_type": "markdown",
      "source": [
        "# JurosCompostos"
      ],
      "metadata": {
        "id": "2qRqV9MXkdgw"
      }
    },
    {
      "cell_type": "markdown",
      "source": [
        "![image.png](data:image/png;base64,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)"
      ],
      "metadata": {
        "id": "wo3AqWlTlhtA"
      }
    },
    {
      "cell_type": "code",
      "source": [
        "# recebe capital minicial a taxa de juros e os anos\n",
        "capitalinicial = float(input(\"digite o capital inicial: \"))\n",
        "taxajuros = float(input(\"digite a taxa de juros: \"))\n",
        "anos = float(input(\"digite os anos: \"))\n",
        "\n",
        "# caucula o montante com juros compostos\n",
        "montante = capitalinicial * (1 + taxajuros/100) **anos\n",
        "\n",
        "# montante\n",
        "print(f\"o montante é: {montante:.2f}\")"
      ],
      "metadata": {
        "colab": {
          "base_uri": "https://localhost:8080/"
        },
        "id": "5gwCuEash-ww",
        "outputId": "ef05d22d-5d58-491f-fa26-50e93682b8f1"
      },
      "execution_count": 1,
      "outputs": [
        {
          "output_type": "stream",
          "name": "stdout",
          "text": [
            "digite o capital inicial: 1000\n",
            "digite a taxa de juros: 6\n",
            "digite os anos: 5\n",
            "o montante é: 1338.23\n"
          ]
        }
      ]
    },
    {
      "cell_type": "markdown",
      "source": [
        "# Gorjeta"
      ],
      "metadata": {
        "id": "bCsLkBDIlxeU"
      }
    },
    {
      "cell_type": "markdown",
      "source": [
        "![image.png](data:image/png;base64,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)"
      ],
      "metadata": {
        "id": "hzEK7aztppBw"
      }
    },
    {
      "cell_type": "code",
      "source": [
        "# recebe valor da conta, valor da gorjeta e quamtidade de pessoas\n",
        "valorconta = float(input(\" digite o valor da conta: \"))\n",
        "gorjeta = float(input(\" digite o valor da gorjeta: \"))\n",
        "pessoas = int(input(\" digite a quantidade de pessoas: \"))\n",
        "\n",
        "# caucula o valor por pessoa\n",
        "taxaservico = (valorconta*10/100)\n",
        "valortotal = taxaservico + valorconta + gorjeta\n",
        "valorpessoa = (valortotal/pessoas)\n",
        "\n",
        "# valor por pessoa\n",
        "print(\" o valor por pessoa é: \", valorpessoa)"
      ],
      "metadata": {
        "colab": {
          "base_uri": "https://localhost:8080/"
        },
        "id": "uYZlrp6Lo2bm",
        "outputId": "b9704508-36fb-492b-efec-22104c12d7f1"
      },
      "execution_count": 2,
      "outputs": [
        {
          "output_type": "stream",
          "name": "stdout",
          "text": [
            " digite o valor da conta: 200\n",
            " digite o valor da gorjeta: 50\n",
            " digite a quantidade de pessoas: 4\n",
            " o valor por pessoa é:  67.5\n"
          ]
        }
      ]
    }
  ]
}