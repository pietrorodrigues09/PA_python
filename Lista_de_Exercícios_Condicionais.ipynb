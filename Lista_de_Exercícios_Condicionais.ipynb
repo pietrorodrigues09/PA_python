{
  "nbformat": 4,
  "nbformat_minor": 0,
  "metadata": {
    "colab": {
      "provenance": [],
      "authorship_tag": "ABX9TyNN2e1TmahHCloVk67AYV7Y",
      "include_colab_link": true
    },
    "kernelspec": {
      "name": "python3",
      "display_name": "Python 3"
    },
    "language_info": {
      "name": "python"
    }
  },
  "cells": [
    {
      "cell_type": "markdown",
      "metadata": {
        "id": "view-in-github",
        "colab_type": "text"
      },
      "source": [
        "<a href=\"https://colab.research.google.com/github/pietrorodrigues09/PA_python/blob/main/Lista_de_Exerc%C3%ADcios_Condicionais.ipynb\" target=\"_parent\"><img src=\"https://colab.research.google.com/assets/colab-badge.svg\" alt=\"Open In Colab\"/></a>"
      ]
    },
    {
      "cell_type": "markdown",
      "source": [
        "1.Faça um programa que solicite ao usuário três valores (lados de um triangulo), verifique se é um triangulo e informe se ele é isóceles, equilatero ou escaleno."
      ],
      "metadata": {
        "id": "lw6mc9mI_kBo"
      }
    },
    {
      "cell_type": "code",
      "execution_count": null,
      "metadata": {
        "colab": {
          "base_uri": "https://localhost:8080/"
        },
        "id": "KywvXhQB_bcs",
        "outputId": "e5891289-b9ba-4661-df54-93a25ad11c76"
      },
      "outputs": [
        {
          "output_type": "stream",
          "name": "stdout",
          "text": [
            "Digite o valor do lado 1: 6\n",
            "Digite o valor do lado 2: 7\n",
            "Digite o valor do lado 3: 8\n",
            "O triangulop é Escaleno\n"
          ]
        }
      ],
      "source": [
        "#entrada\n",
        "L1 = int(input('Digite o valor do lado 1: '))\n",
        "L2 = int(input('Digite o valor do lado 2: '))\n",
        "L3 = int(input('Digite o valor do lado 3: '))\n",
        "\n",
        "#processamento\n",
        "if(L1 + L2 > L3) and (L1 + L3 > L2) and (L2 + L3 > L1):\n",
        "  if(L1 == L2) and (L2 == L3) and (L1 == L3):\n",
        "    print(\"O triangulo é Equilatero\")\n",
        "  elif(L1==L2) and (L2!=L3) and (L1==L3):\n",
        "    print(\"O triangulo é Isóceles\")\n",
        "  elif (L1 != L2) and (L2 != L3) and (L1 != L3):\n",
        "    print(\"O triangulo é Escaleno\")\n",
        "else :\n",
        " print(\"Não é umm triangulo\")"
      ]
    },
    {
      "cell_type": "markdown",
      "source": [
        "2.Peça para o usuário digitar um valor informe se ele é par ou impar"
      ],
      "metadata": {
        "id": "gdRDB5FZBU_3"
      }
    },
    {
      "cell_type": "code",
      "source": [
        "#entrada\n",
        "valor = int(input(\"Digite um numero para ver se é par ou impar! \"))\n",
        "\n",
        "#processamento\n",
        "if(valor%2==0):\n",
        "  print(\"é par\")\n",
        "else :\n",
        "  print(\"é ímpar\")"
      ],
      "metadata": {
        "colab": {
          "base_uri": "https://localhost:8080/"
        },
        "id": "rHl-CIe_BeT4",
        "outputId": "61ddd21d-3238-4017-8647-2abde392d629"
      },
      "execution_count": null,
      "outputs": [
        {
          "output_type": "stream",
          "name": "stdout",
          "text": [
            "Digite um numero para ver se é par ou impar! 10\n",
            "é par\n"
          ]
        }
      ]
    },
    {
      "cell_type": "markdown",
      "source": [
        "3.Faça um programa que solicite peso e altura, informe seu IMC. Ao final informe se ele está, abaixo do peso,peso ideal ou acima do peso. fórmula do IMC: (peso/altura^2), siga a tabela abaixo:I"
      ],
      "metadata": {
        "id": "yE7VVdHTC1Tc"
      }
    },
    {
      "cell_type": "code",
      "source": [
        "#entrada\n",
        "altura =  float(input(\"digite a sua altura: \"))\n",
        "peso = float(input(\"digite o seu peso :\"))\n",
        "\n",
        "#processamento\n",
        "imc = peso / (altura**2)\n",
        "if (imc<18.5):\n",
        "  print(\"Você está abaixo do peso\")\n",
        "elif (imc>=18.5) and (imc<=24.9):\n",
        "  print(\"Você está no peso ideal\")\n",
        "elif(imc>=25) and (imc<=29.9):\n",
        "  print(\"Você está sobrepeso\")\n",
        "elif (imc>=30) and (imc<=34.9):\n",
        "  print(\"Você está com obesidade grau 1\")\n",
        "elif (imc>=35) and (imc<= 39.9):\n",
        "  print(\"Você está com obesidade grau 2\")\n",
        "elif (imc>=40):\n",
        "  print(\"Você está com obesidade grau 3\")"
      ],
      "metadata": {
        "colab": {
          "base_uri": "https://localhost:8080/"
        },
        "id": "NVXS0S1LC6zo",
        "outputId": "20a9fe43-00e6-4933-80cf-ec14cc375fa4"
      },
      "execution_count": null,
      "outputs": [
        {
          "output_type": "stream",
          "name": "stdout",
          "text": [
            "digite a sua altura: 1.70\n",
            "digite o seu peso :56\n",
            "Você está no peso ideal\n"
          ]
        }
      ]
    },
    {
      "cell_type": "markdown",
      "source": [
        "4. Caixa Eletrônico com Login e Operações Bancárias\n",
        "\n",
        "Crie um programa que simule um caixa eletrônico. O programa deve:\n",
        "\n",
        "Solicitar ao usuário nome de usuário e senha para acessar a conta bancária (use valores fictícios para usuário e senha, por exemplo, \"cliente\" e \"1234\").\n",
        "\n",
        "Se o usuário ou a senha estiver incorreto, o programa deve bloquear o acesso e exibir a mensagem: \"Usuário ou senha incorretos. Tente novamente.\""
      ],
      "metadata": {
        "id": "QsSF7g-zFXaF"
      }
    },
    {
      "cell_type": "code",
      "source": [
        "#entrada\n",
        "senhacerta = 123456\n",
        "usuariocerto = \"cliente\"\n",
        "usuario = input(\"Digite o seu usuario: \")\n",
        "senha = int(input(\"Digite a sua senha: \"))\n",
        "\n",
        "#processamento\n",
        "if usuario == usuariocerto:\n",
        "  if senha == senhacerta:\n",
        "    print(\"Usuario Logado\")\n",
        "  else:\n",
        "    print(\"Senha inválida\")\n",
        "else:\n",
        "  print(\"Usuario invalido\")\n"
      ],
      "metadata": {
        "colab": {
          "base_uri": "https://localhost:8080/"
        },
        "id": "RmzM303oFc2N",
        "outputId": "eb478314-9764-451f-e769-030733722950"
      },
      "execution_count": null,
      "outputs": [
        {
          "output_type": "stream",
          "name": "stdout",
          "text": [
            "Digite o seu usuario: cliente\n",
            "Digite a sua senha: 123456\n",
            "Usuario Logado\n"
          ]
        }
      ]
    },
    {
      "cell_type": "code",
      "source": [
        "if usuario == usuariocerto and senha == senhacerta:\n",
        "  print(\"Usuario logado\")\n",
        "else:\n",
        "  print(\"Usuario ou senha inválidos\")"
      ],
      "metadata": {
        "id": "6PgIUOG9G-CR"
      },
      "execution_count": null,
      "outputs": []
    },
    {
      "cell_type": "markdown",
      "source": [
        "5. Exercício – Simulador de Saque e Depósito com Limite\n",
        "\n",
        "Sequência do exercício anterior\n",
        "\n",
        "Deverá ter os valores fixos de\n",
        "\n",
        "Exemplo:\n",
        "\n",
        "limite = 3000\n",
        "\n",
        "saldo = - 50.00\n",
        "\n",
        "Se o login for bem-sucedido, o programa deve exibir as opções de escolha para o usuário de saque, depósito ou ver saldo, e o usuário poderá escolher qual operação deseja realizar.\n",
        "\n",
        "Exemplo:\n",
        "\n",
        "Digite 1 para sacar\n",
        "\n",
        "Digite 2 para depositar\n",
        "\n",
        "Digite 3 para ver o saldo\n",
        "\n",
        "Porém ao final de cada operação de saque ou depósito, mostre como ficou o saldo do cliente no banco. Sempre mostranto saldo e o restante do limite do banco.\n",
        "\n",
        "Caso o usuário escolha sacar:\n",
        "\n",
        "Solicitar o valor que deseja sacar.\n",
        "\n",
        "Verificar se o saque pode ser realizado, considerando o saldo mais o limite disponível.\n",
        "\n",
        "Informar se o saque foi autorizado ou negado.\n",
        "\n",
        "Se autorizado, informar o saldo final e se ele é positivo ou negativo.\n",
        "\n",
        "Não esqueça de atualizar o saldo\n",
        "\n",
        "Informar qual o valor negativo que ele está caso esteja usando o limite do Banco.\n",
        "\n",
        "Caso o usuário escolha depositar:\n",
        "\n",
        "Solicitar o valor do depósito.\n",
        "\n",
        "Atualizar o saldo e informar o novo saldo final.\n",
        "\n",
        "Caso o saldo ultrapasse o limite, informar que o limite foi excedido.\n",
        "\n",
        "Dica: Lembre-se de que o limite funciona como um \"empréstimo automático\", permitindo que o cliente saque além do saldo disponível."
      ],
      "metadata": {
        "id": "frup4y1xHGmp"
      }
    },
    {
      "cell_type": "code",
      "source": [
        "#Entrada\n",
        "limite = 3000\n",
        "saldo = -50.00\n",
        "\n",
        "senhacerta = 123456\n",
        "usuariocerto = \"cliente\"\n",
        "usuario = input(\"Digite o seu usuario: \")\n",
        "senha = int(input(\"Digite a sua senha: \"))\n",
        "\n",
        "if usuario == usuariocerto:\n",
        "  if senha == senhacerta:\n",
        "    print(\"Usuario Logado\")\n",
        "\n",
        "    operacoes = int(input(\"Digite 1 para sacar\\n Digite 2 para depositar\\n Digite 3 para ver o saldo\\n:\"))\n",
        "\n",
        "    if(operacoes==1):\n",
        "      valorsaque = float(input(\"Digite o valor do seu saque: \"))\n",
        "      limitetotal = saldo + limite\n",
        "      if(valorsaque <= limitetotal):\n",
        "        print(\"O seu saque foi autorizado\")\n",
        "        saldo = saldo - valorsaque\n",
        "        print(\"O seu saldo agora é: \", saldo)\n",
        "      else:\n",
        "        print(\"O seu saque não foi autorizado\")\n",
        "\n",
        "    if(operacoes==2):\n",
        "      valordeposito = float(input(\"Digite o valor do seu deposito: \"))\n",
        "      saldo = (saldo + valordeposito)\n",
        "      print(\"O seu saldo atual é de:\", saldo)\n",
        "\n",
        "\n",
        "\n",
        "    if(operacoes==3):\n",
        "      print(\"Seu saldo neste momento é de: \", saldo)\n",
        "    else:\n",
        "      print(\"Sua operação desejada não existe\")\n",
        "  else:\n",
        "    print(\"Senha inválida\")\n",
        "else:\n",
        "  print(\"Usuario invalido\")\n",
        "\n",
        "\n"
      ],
      "metadata": {
        "colab": {
          "base_uri": "https://localhost:8080/"
        },
        "id": "qk4DEfHFHj2C",
        "outputId": "bd68c76b-6722-40bf-c143-9732df06c580"
      },
      "execution_count": null,
      "outputs": [
        {
          "output_type": "stream",
          "name": "stdout",
          "text": [
            "Digite o seu usuario: cliente\n",
            "Digite a sua senha: 123456\n",
            "Usuario Logado\n",
            "Digite 1 para sacar\n",
            " Digite 2 para depositar\n",
            " Digite 3 para ver o saldo\n",
            ":4\n",
            "Sua operação desejada não existe\n"
          ]
        }
      ]
    },
    {
      "cell_type": "markdown",
      "source": [
        "#6. Faça um programa que solicite altura e idade do usuário, informe se ele pode ou nao competir."
      ],
      "metadata": {
        "id": "v73DyJ8a9ucx"
      }
    },
    {
      "cell_type": "code",
      "source": [
        "#entrada\n",
        "idade = int(input(\"Digite a sua idade: \"))\n",
        "altura = float(input(\"Digite a sua altura: \"))\n",
        "\n",
        "if (idade >= 18) and (altura >= 1.75):\n",
        "  print(\"Você pode participar do campeonato\")\n",
        "else:\n",
        "  print(\"Você não pode participar do campeonato\")"
      ],
      "metadata": {
        "colab": {
          "base_uri": "https://localhost:8080/"
        },
        "id": "EV59gI7l915N",
        "outputId": "2c1e6233-a1b8-40fd-fc0c-c1459957aadd"
      },
      "execution_count": null,
      "outputs": [
        {
          "output_type": "stream",
          "name": "stdout",
          "text": [
            "Digite a sua idade: 19\n",
            "Digite a sua altura: 1.60\n",
            "Você não pode participar do campeonato\n"
          ]
        }
      ]
    },
    {
      "cell_type": "markdown",
      "source": [
        "#7. Faça um programa que solicite o peso do lutador de Boxe. Informe em que categoria de boxe o usuário está, segundo os critérios abaixos:"
      ],
      "metadata": {
        "id": "uLDVUtqrBmA7"
      }
    },
    {
      "cell_type": "code",
      "source": [
        "peso = float(input(\"qual é seu peso: \"))\n",
        "if (peso >90.72):\n",
        "  print(\"sua classe é pesado\")\n",
        "elif (peso>79.38 and peso<=90.72):\n",
        "  print(\"sua classe é cruzador\")\n",
        "elif (peso>76.2 and peso<=79.38):\n",
        "  print(\"sua classe é meio pesado\")\n",
        "elif (peso>73.03 and peso<=76.2):\n",
        "  print(\"sua classe é super médio\")\n",
        "elif (peso>69.85 and peso<=73.03):\n",
        "  print(\"sua classe é médio\")\n",
        "elif (peso>66.68 and peso<=69.85):\n",
        "  print(\"sua classe é super meio médio\")\n",
        "elif (peso>63.5 and peso<=66.68):\n",
        "  print(\"sua classe é meio médio\")\n",
        "elif (peso>61.23 and peso<=63.5):\n",
        "  print(\"sua classe é super leve\")\n",
        "elif (peso>58.97 and peso<=61.23):\n",
        "  print(\"sua classe é Leve\")\n",
        "elif (peso>57.15 and peso<=58.97):\n",
        "  print(\"sua classe é Super Pena\")\n",
        "elif (peso>55.34 and peso<=57.15):\n",
        "  print(\"sua classe é pena\")\n",
        "elif (peso>53.52 and peso<=55.34):\n",
        "  print(\"sua classe é Super Galo\")\n",
        "elif (peso>51.71 and peso<=53.52):\n",
        "  print(\"sua classe é Galo\")\n",
        "elif (peso>50.35 and peso<=51.71):\n",
        "  print(\"sua classe é Super Mosca\")\n",
        "elif (peso>48.99 and peso<=50.35):\n",
        "  print(\"sua classe é Mosca\")\n",
        "elif (peso>47.63 and peso<=48.99):\n",
        "  print(\"sua classe é Mosca Ligeiro\")\n",
        "elif (peso>46.27 and peso<=47.63):\n",
        "  print(\"sua classe é palha\")\n",
        "elif (peso<=46.27):\n",
        "  print(\"sua classe é Palha Ligeiro\")"
      ],
      "metadata": {
        "id": "vK4Kn95rBuH9"
      },
      "execution_count": null,
      "outputs": []
    },
    {
      "cell_type": "markdown",
      "source": [
        "#8.Faça um programa que solicite\n",
        "\n",
        "O salário do usuário;\n",
        "\n",
        "Informe quanto esse usuário irá pagar de imposto de Renda seguindo a tabela abaixo:"
      ],
      "metadata": {
        "id": "-u_r44T1FwVq"
      }
    },
    {
      "cell_type": "code",
      "source": [
        "salario = float(input(\"Digite o seu salario: \"))\n",
        "if salario <= 1903.98:\n",
        "  print(\"Você está isento de impostos\")\n",
        "elif salario > 1903.98 and salario < 2826.65:\n",
        "  imposto = 7.5/100 * salario\n",
        "  print(f\"Você deve pagar {imposto} de imposto\")\n",
        "elif salario <= 2826.66 and salario < 3751.05:\n",
        "  imposto2 = 15/100 * salario\n",
        "  print(f\"Você deve pagar {imposto2} de imposto\")\n",
        "elif salario <= 3751.06 and salario < 4664.68:\n",
        "  imposto3 = 22.5/100 * salario\n",
        "  print(f\"Você deve pagar {imposto3}de impostos\")\n",
        "elif salario >= 4664.68:\n",
        "  imposto4 = 27.5/100 * salario\n",
        "  print(f\"Você deve pagar {imposto4} de impostos\")"
      ],
      "metadata": {
        "colab": {
          "base_uri": "https://localhost:8080/"
        },
        "id": "fi9LBHVBF0X0",
        "outputId": "188c8b1d-fe33-4a25-9f29-25fdd9cef310"
      },
      "execution_count": null,
      "outputs": [
        {
          "output_type": "stream",
          "name": "stdout",
          "text": [
            "Digite o seu salario: 50000\n",
            "Você deve pagar 13750.000000000002 de impostos\n"
          ]
        }
      ]
    },
    {
      "cell_type": "markdown",
      "source": [
        "#9.Uma empresa dará aumento para seus funcionários, faça um programa que faça esses cálculos, solicite o salário do funcionário e informe o aumento que o mesmo terá, seguindo os seguintes critérios:"
      ],
      "metadata": {
        "id": "p6etRD5nLopp"
      }
    },
    {
      "cell_type": "code",
      "source": [
        "salario = float(input(\"Informe o seu salario: \"))\n",
        "if salario <= 1500:\n",
        "  salario1 = salario +(20/100*salario)\n",
        "  print(f\"O seu salario agora é: {salario1}\")\n",
        "elif (salario > 1500 and salario <= 3000):\n",
        "   salario2 = salario +(15/100*salario)\n",
        "   print(f\"O seu salario agora é: {salario2}\")\n",
        "elif salario > 3000:\n",
        "  salario3 = salario +(10/100*salario)\n",
        "  print(f\"O seu salario agora é: {salario3}\")\n"
      ],
      "metadata": {
        "colab": {
          "base_uri": "https://localhost:8080/"
        },
        "id": "b_q6EisqLuM5",
        "outputId": "31b1e0d2-dab6-4e77-9104-8ac6ff6ea5cc"
      },
      "execution_count": null,
      "outputs": [
        {
          "output_type": "stream",
          "name": "stdout",
          "text": [
            "Informe o seu salario: 2000\n",
            "O seu salario agora é: 2300.0\n"
          ]
        }
      ]
    },
    {
      "cell_type": "markdown",
      "source": [
        "#10.Simulador de frete inteligente\n",
        "\n",
        "Peça o peso do pacote (em kg) e a distância (em km) de sua cidade até o local de entrega.Calcule o frete com base em regras:\n",
        "\n",
        "Até 2kg → R$5 por 100km\n",
        "\n",
        "De 2kg a 5kg → R$8 por 100km\n",
        "\n",
        "Acima de 5kg → R$10 por 100km"
      ],
      "metadata": {
        "id": "SgPRHeSdNfl1"
      }
    },
    {
      "cell_type": "code",
      "source": [
        "peso = float(input(\"Digite o peso do produto: \"))\n",
        "distancia = int(input(\"Digite a distancia da entrega: \"))\n",
        "\n",
        "if peso < 2:\n",
        "  frete1 = 5 * (distancia/100)\n",
        "  print(\"O seu frete é de:\", frete1)\n",
        "elif peso >= 2 and peso <= 5:\n",
        "  frete2 = 8 * (distancia/100)\n",
        "  print(\"O seu frete é de: \", frete2)\n",
        "else:\n",
        "  frete3 = 10 * (distancia/100)\n",
        "  print(\"O seu frete é de: \", frete3)"
      ],
      "metadata": {
        "id": "-kSMFsqpNlTd",
        "colab": {
          "base_uri": "https://localhost:8080/"
        },
        "outputId": "b7d163d3-ca7a-4f82-f1f1-3f8831b9f002"
      },
      "execution_count": 8,
      "outputs": [
        {
          "output_type": "stream",
          "name": "stdout",
          "text": [
            "Digite o peso do produto: 20\n",
            "Digite a distancia da entrega: 400\n",
            "O seu frete é de:  40.0\n"
          ]
        }
      ]
    }
  ]
}