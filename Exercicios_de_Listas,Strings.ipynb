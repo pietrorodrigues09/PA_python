{
  "nbformat": 4,
  "nbformat_minor": 0,
  "metadata": {
    "colab": {
      "provenance": [],
      "authorship_tag": "ABX9TyM4NhgLPGaRTeGfVu44dah+",
      "include_colab_link": true
    },
    "kernelspec": {
      "name": "python3",
      "display_name": "Python 3"
    },
    "language_info": {
      "name": "python"
    }
  },
  "cells": [
    {
      "cell_type": "markdown",
      "metadata": {
        "id": "view-in-github",
        "colab_type": "text"
      },
      "source": [
        "<a href=\"https://colab.research.google.com/github/pietrorodrigues09/PA_python/blob/main/Exercicios_de_Listas%2CStrings.ipynb\" target=\"_parent\"><img src=\"https://colab.research.google.com/assets/colab-badge.svg\" alt=\"Open In Colab\"/></a>"
      ]
    },
    {
      "cell_type": "code",
      "execution_count": null,
      "metadata": {
        "id": "77pCLFOcz1AK"
      },
      "outputs": [],
      "source": []
    },
    {
      "cell_type": "markdown",
      "source": [
        "# EXERCÍCIOS"
      ],
      "metadata": {
        "id": "alyrqUJst2B7"
      }
    },
    {
      "cell_type": "code",
      "source": [
        "# 1 - Use o método len para imprimir o comprimento da string.\n",
        "x = \"Hello World\"\n",
        "print( len(x))"
      ],
      "metadata": {
        "id": "VaXue1uMuGtE",
        "colab": {
          "base_uri": "https://localhost:8080/"
        },
        "outputId": "77d70c52-9fbe-4a40-ba45-967a15286010"
      },
      "execution_count": null,
      "outputs": [
        {
          "output_type": "stream",
          "name": "stdout",
          "text": [
            "11\n"
          ]
        }
      ]
    },
    {
      "cell_type": "code",
      "source": [
        "# 2 - Obtenha o primeiro caractere da string txt.\n",
        "txt = \"Hello World\"\n",
        "txt[0]"
      ],
      "metadata": {
        "id": "hE23s19XuT9V",
        "colab": {
          "base_uri": "https://localhost:8080/",
          "height": 35
        },
        "outputId": "f9b04365-05e7-442c-fabb-0e5c2f8bf312"
      },
      "execution_count": null,
      "outputs": [
        {
          "output_type": "execute_result",
          "data": {
            "text/plain": [
              "'H'"
            ],
            "application/vnd.google.colaboratory.intrinsic+json": {
              "type": "string"
            }
          },
          "metadata": {},
          "execution_count": 37
        }
      ]
    },
    {
      "cell_type": "code",
      "source": [
        "# 3 - Obtenha os caracteres do índice 2 ao índice 4 ( llo).\n",
        "txt = \"Hello World\"\n",
        "txt[2:5]"
      ],
      "metadata": {
        "id": "u5G2G2Icuh_5",
        "colab": {
          "base_uri": "https://localhost:8080/",
          "height": 35
        },
        "outputId": "77d49adf-8763-4c88-f1c3-3e1ccac57940"
      },
      "execution_count": null,
      "outputs": [
        {
          "output_type": "execute_result",
          "data": {
            "text/plain": [
              "'llo'"
            ],
            "application/vnd.google.colaboratory.intrinsic+json": {
              "type": "string"
            }
          },
          "metadata": {},
          "execution_count": 41
        }
      ]
    },
    {
      "cell_type": "code",
      "source": [
        "# 4 - Converta o valor de txt para maiúsculas.\n",
        "txt = \"Hello World\"\n",
        "txt.upper()"
      ],
      "metadata": {
        "id": "i_QREABlusUY",
        "colab": {
          "base_uri": "https://localhost:8080/",
          "height": 35
        },
        "outputId": "9d98b2c5-14f1-4df4-ee4c-c28910428208"
      },
      "execution_count": null,
      "outputs": [
        {
          "output_type": "execute_result",
          "data": {
            "text/plain": [
              "'HELLO WORLD'"
            ],
            "application/vnd.google.colaboratory.intrinsic+json": {
              "type": "string"
            }
          },
          "metadata": {},
          "execution_count": 43
        }
      ]
    },
    {
      "cell_type": "code",
      "source": [
        "# 5 - Conte quantas vezes aparece a palavra \"de\" na string abaixo\n",
        "txt = \"Eu gosto de vijar, tomar vinho, de estudar estudar programação, de estudar Pyhon\"\n",
        "print( len(\"de\"))"
      ],
      "metadata": {
        "id": "nVC1pSwq2PDH",
        "colab": {
          "base_uri": "https://localhost:8080/"
        },
        "outputId": "db5068da-92d9-4257-eb82-292e52221dc0"
      },
      "execution_count": null,
      "outputs": [
        {
          "output_type": "stream",
          "name": "stdout",
          "text": [
            "2\n"
          ]
        }
      ]
    },
    {
      "cell_type": "code",
      "source": [
        "# 6 - Separe a frase abaixo toda vez que encontrar um vírgula\n",
        "txt = \"Eu gosto de vijar, tomar vinho, de estudar estudar programação, de estudar Pyhon\"\n",
        "txt.split(\",\")"
      ],
      "metadata": {
        "id": "tkUBrdQH3OUR",
        "colab": {
          "base_uri": "https://localhost:8080/"
        },
        "outputId": "fe39e88d-01f1-4db8-a9c2-2f04e5f0b804"
      },
      "execution_count": null,
      "outputs": [
        {
          "output_type": "execute_result",
          "data": {
            "text/plain": [
              "['Eu gosto de vijar',\n",
              " ' tomar vinho',\n",
              " ' de estudar estudar programação',\n",
              " ' de estudar Pyhon']"
            ]
          },
          "metadata": {},
          "execution_count": 46
        }
      ]
    },
    {
      "cell_type": "code",
      "source": [
        "# 7 - Peça ao usuário uma frase e substitua todas as ocorrências de espaço por \"#\"\n",
        "frase = input(str(\"Digite uma frase: \"))\n",
        "frase.replace(\" \", \"#\")"
      ],
      "metadata": {
        "colab": {
          "base_uri": "https://localhost:8080/",
          "height": 53
        },
        "id": "3OEgSTVTh66L",
        "outputId": "37f28051-1452-436f-87cc-262fb239b6f9"
      },
      "execution_count": null,
      "outputs": [
        {
          "name": "stdout",
          "output_type": "stream",
          "text": [
            "Digite uma frase: eu amo o pablo \n"
          ]
        },
        {
          "output_type": "execute_result",
          "data": {
            "text/plain": [
              "'eu#amo#o#pablo#'"
            ],
            "application/vnd.google.colaboratory.intrinsic+json": {
              "type": "string"
            }
          },
          "metadata": {},
          "execution_count": 55
        }
      ]
    },
    {
      "cell_type": "code",
      "source": [
        "# 8 - Faça um programa que retorne True se duas strings lidas do teclado são palíndromas mútuas, ou seja, se uma é igual à outra quando lida de traz para frente ou False, se não forem.\n",
        "# Por exemplo: amor e roma\n",
        "\n",
        "palavra1 = input(str(\"Digite uma palvra: \"))\n",
        "palavra2 = input(str(\"Digite uma palava: \"))\n",
        "\n",
        "(palavra1[::-1] == palavra2)\n",
        "\n",
        "if palavra1[::-1] == palavra2:\n",
        "    print(\"As palavras são palindromas\")\n",
        "elif palavra1[::-1] == palavra1:\n",
        "    print(\"A palavra 1 é palíndroma com ela mesma\")\n",
        "elif palavra2[::-1] == palavra2:\n",
        "    print(\"A palavra 2 é palíndroma com ela mesma\")\n",
        "else:\n",
        "    print(\"As palavras não são palindromas\")"
      ],
      "metadata": {
        "id": "xMzTvD-StfcV",
        "colab": {
          "base_uri": "https://localhost:8080/"
        },
        "outputId": "277f54e0-f4d1-4f57-e958-72f2f9dc163a"
      },
      "execution_count": null,
      "outputs": [
        {
          "output_type": "stream",
          "name": "stdout",
          "text": [
            "Digite uma palvra: amor\n",
            "Digite uma palava: pao\n",
            "As palavras não são palindromas\n"
          ]
        }
      ]
    },
    {
      "cell_type": "code",
      "source": [
        "# 9- Faça um programa que leia o nome do usuário e mostre o nome de traz para frente, utilizando somente letras maiúsculas.\n",
        "\n",
        "nome = input(str(\"Digite o seu nome: \"))\n",
        "nome = nome[::-1]\n",
        "nome = nome.upper()\n",
        "print(nome)"
      ],
      "metadata": {
        "id": "Q-VT1F6StorW"
      },
      "execution_count": null,
      "outputs": []
    },
    {
      "cell_type": "code",
      "source": [],
      "metadata": {
        "id": "q04dB8930XS7"
      },
      "execution_count": null,
      "outputs": []
    },
    {
      "cell_type": "markdown",
      "source": [
        "# **Exercícios**\n",
        "##Exercício 1: Manipulação de Listas\n",
        "\n",
        "- Defina uma lista com 5 nomes de cidades.\n",
        "- Adicione uma nova cidade ao final da lista.\n",
        "- Remova a segunda cidade da lista.\n",
        "- Imprima a lista resultante."
      ],
      "metadata": {
        "id": "Y_YJtHALyD7j"
      }
    },
    {
      "cell_type": "code",
      "source": [
        "# seu código aqui...\n",
        "cidades = [\"Maua\",\"Ribeirão Pires\",\"São Caetano\",\"Santo André\",\"Diadema\"]\n",
        "cidades.append(\"São Bernardo\")\n",
        "cidades.remove(\"Ribeirão Pires\")\n",
        "print(cidades)"
      ],
      "metadata": {
        "id": "F7PpZmzsyJkj",
        "colab": {
          "base_uri": "https://localhost:8080/"
        },
        "outputId": "9da47067-a078-462b-c75c-f560f9854f03"
      },
      "execution_count": null,
      "outputs": [
        {
          "output_type": "stream",
          "name": "stdout",
          "text": [
            "['Maua', 'São Caetano', 'Santo André', 'Diadema', 'São Bernardo']\n"
          ]
        }
      ]
    },
    {
      "cell_type": "markdown",
      "source": [
        "##Exercício 2: Operações com Tuplas\n",
        "\n",
        "- Defina uma tupla com 4 cores.\n",
        "- Crie uma nova tupla que seja a concatenação da tupla original com outra contendo mais 2 cores.\n",
        "- Imprima a nova tupla."
      ],
      "metadata": {
        "id": "chLTYNQGyUrj"
      }
    },
    {
      "cell_type": "code",
      "source": [
        "# seu código aqui...\n",
        "cores = (\"amarelo\",\"verde\",\"vermelho\",\"laranja\")\n",
        "novas_cores = cores + (\"preto\",\"branco\",)\n",
        "print(novas_cores)"
      ],
      "metadata": {
        "id": "TdRLrGUoyaHa",
        "colab": {
          "base_uri": "https://localhost:8080/"
        },
        "outputId": "cb04909d-41ca-4d5d-f2af-9c11313eb3b5"
      },
      "execution_count": null,
      "outputs": [
        {
          "output_type": "stream",
          "name": "stdout",
          "text": [
            "('amarelo', 'verde', 'vermelho', 'laranja', 'preto', 'branco')\n"
          ]
        }
      ]
    },
    {
      "cell_type": "markdown",
      "source": [
        "##Exercício 3: Dicionários Simples\n",
        "\n",
        "Crie um dicionário para representar um aluno, contendo \"nome\", \"idade\" e \"curso\".\n",
        "- Atualize a idade do aluno.\n",
        "- Adicione uma nova chave \"nota\" com um valor.\n",
        "- Imprima o dicionário atualizado"
      ],
      "metadata": {
        "id": "5eLz2Zvvygej"
      }
    },
    {
      "cell_type": "code",
      "source": [
        "# seu código aqui...\n",
        "aluno = {\n",
        "    \"nome\": \"Marcos\",\n",
        "    \"idade\": 15,\n",
        "    \"curso\": \"Edificações\"\n",
        "}\n",
        "aluno[\"idade\"] = 16\n",
        "\n",
        "aluno[\"nota\"] = 10.0\n",
        "print(aluno)"
      ],
      "metadata": {
        "id": "g3w1JYkIy1fy",
        "colab": {
          "base_uri": "https://localhost:8080/"
        },
        "outputId": "3c272b1d-fc95-4111-a858-23551bca55e1"
      },
      "execution_count": null,
      "outputs": [
        {
          "output_type": "stream",
          "name": "stdout",
          "text": [
            "{'nome': 'Marcos', 'idade': 16, 'curso': 'Edificações', 'nota': 10.0}\n"
          ]
        }
      ]
    },
    {
      "cell_type": "markdown",
      "source": [
        "##Exercício 4: Listas e Dicionários\n",
        "\n",
        "- Crie uma lista de dicionários, onde cada dicionário representa um produto com as chaves \"nome\" e \"preço\".\n",
        "- Adicione um novo produto à lista.\n",
        "- Atualize o preço do primeiro produto na lista.\n",
        "- Imprima a lista resultante."
      ],
      "metadata": {
        "id": "6IhHbYV3y7ES"
      }
    },
    {
      "cell_type": "code",
      "source": [
        "# seu código aqui...\n",
        "produtos = {\"garrafa\": 10, \"mochila\": 200, \"caderno\":40 }\n",
        "print(produtos)\n",
        "produtos[\"garrafa\"] = 15\n",
        "print(produtos)\n",
        "produtos[\"caneta\"] = 5\n",
        "print(produtos)"
      ],
      "metadata": {
        "id": "OgnFiZ2qzGAD",
        "colab": {
          "base_uri": "https://localhost:8080/"
        },
        "outputId": "8e54a3f2-792c-43fe-9268-e27d08c2b68b"
      },
      "execution_count": null,
      "outputs": [
        {
          "output_type": "stream",
          "name": "stdout",
          "text": [
            "{'garrafa': 10, 'mochila': 200, 'caderno': 40}\n",
            "{'garrafa': 15, 'mochila': 200, 'caderno': 40}\n",
            "{'garrafa': 15, 'mochila': 200, 'caderno': 40, 'caneta': 5}\n"
          ]
        }
      ]
    },
    {
      "cell_type": "markdown",
      "source": [
        "##Exercício 5: Analisando uma Lista de Tuplas\n",
        "\n",
        "- Crie uma lista de tuplas, onde cada tupla contém um par (nome, idade).\n",
        "- Encontre e imprima o nome da pessoa mais velha.\n",
        "- Encontre e imprima a idade média das pessoas."
      ],
      "metadata": {
        "id": "KtVatd9TzJRC"
      }
    },
    {
      "cell_type": "code",
      "source": [
        "idade = 0\n",
        "nomemaisvelho = \" \"\n",
        "\n",
        "pessoas = [(\"João\", 25), (\"Maria\", 30), (\"José\", 38)]\n",
        "\n",
        "if pessoas[0][1] > pessoas[1][1]:\n",
        "    if pessoas[0][1] > pessoas[2][1]:\n",
        "        nomemaisvelho = pessoas[0][0]\n",
        "        idade = pessoas[0][1]\n",
        "    else:\n",
        "        nomemaisvelho = pessoas[2][0]\n",
        "        idade = pessoas[2][1]\n",
        "else:\n",
        "    if pessoas[1][1] > pessoas[2][1]:\n",
        "        nomemaisvelho = pessoas[1][0]\n",
        "        idade = pessoas[1][1]\n",
        "    else:\n",
        "        nomemaisvelho = pessoas[2][0]\n",
        "        idade = pessoas[2][1]\n",
        "\n",
        "\n",
        "media = (pessoas[0][1] + pessoas[1][1] + pessoas[2][1])/3\n",
        "print(nomemaisvelho , idade)\n",
        "print(media)"
      ],
      "metadata": {
        "colab": {
          "base_uri": "https://localhost:8080/"
        },
        "id": "HwqbAzlBZ5hs",
        "outputId": "54265c64-bc83-487e-ce7f-e2bfc55bc8bc"
      },
      "execution_count": null,
      "outputs": [
        {
          "output_type": "stream",
          "name": "stdout",
          "text": [
            "José 38\n",
            "31.0\n"
          ]
        }
      ]
    }
  ]
}