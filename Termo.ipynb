{
  "nbformat": 4,
  "nbformat_minor": 0,
  "metadata": {
    "colab": {
      "provenance": [],
      "authorship_tag": "ABX9TyPdMIFxLpD0FlVSFZBqlNr2",
      "include_colab_link": true
    },
    "kernelspec": {
      "name": "python3",
      "display_name": "Python 3"
    },
    "language_info": {
      "name": "python"
    }
  },
  "cells": [
    {
      "cell_type": "markdown",
      "metadata": {
        "id": "view-in-github",
        "colab_type": "text"
      },
      "source": [
        "<a href=\"https://colab.research.google.com/github/pietrorodrigues09/PA_python/blob/main/Termo.ipynb\" target=\"_parent\"><img src=\"https://colab.research.google.com/assets/colab-badge.svg\" alt=\"Open In Colab\"/></a>"
      ]
    },
    {
      "cell_type": "code",
      "execution_count": 1,
      "metadata": {
        "colab": {
          "base_uri": "https://localhost:8080/"
        },
        "id": "-_TyCVSMC_no",
        "outputId": "331e3e85-f7e4-4a5c-d075-7956efa14ce7"
      },
      "outputs": [
        {
          "output_type": "stream",
          "name": "stdout",
          "text": [
            "Bem-vindo ao jogo estilo Termo! 🎮\n",
            "Tente adivinhar a palavra de 5 letras. Você tem 6 tentativas.\n",
            "\n",
            "Tentativa 1/6: prato\n",
            "Dica: ⬜⬜⬜⬜⬜\n",
            "\n",
            "Tentativa 2/6: corte\n",
            "Dica: ⬜⬜⬜⬜🟨\n",
            "\n",
            "Tentativa 3/6: nuvem\n",
            "🎉 Parabéns! Você acertou a palavra: NUVEM\n"
          ]
        }
      ],
      "source": [
        "import random\n",
        "\n",
        "# Lista de palavras de 5 letras\n",
        "palavras = [\"carta\", \"trigo\", \"verde\", \"piano\", \"luzir\", \"amigo\", \"nuvem\", \"festa\", \"rocha\", \"banho\"]\n",
        "\n",
        "# Escolhe a palavra secreta\n",
        "palavra_certa = random.choice(palavras)\n",
        "\n",
        "tentativas = 6\n",
        "print(\"Bem-vindo ao jogo estilo Termo! 🎮\")\n",
        "print(\"Tente adivinhar a palavra de 5 letras. Você tem 6 tentativas.\")\n",
        "\n",
        "for tentativa in range(1, tentativas + 1):\n",
        "    chute = input(f\"\\nTentativa {tentativa}/{tentativas}: \").lower()\n",
        "\n",
        "    # Validação do tamanho\n",
        "    if len(chute) != 5:\n",
        "        print(\"❌ O chute deve ter exatamente 5 letras!\")\n",
        "        continue\n",
        "\n",
        "    # Se acertou\n",
        "    if chute == palavra_certa:\n",
        "        print(f\"🎉 Parabéns! Você acertou a palavra: {palavra_certa.upper()}\")\n",
        "        break\n",
        "\n",
        "    # Dicas\n",
        "    dica = \"\"\n",
        "    for i in range(5):\n",
        "        if chute[i] == palavra_certa[i]:\n",
        "            dica += \"✅\"  # letra correta na posição certa\n",
        "        elif chute[i] in palavra_certa:\n",
        "            dica += \"🟨\"  # letra existe mas está em outra posição\n",
        "        else:\n",
        "            dica += \"⬜\"  # letra não existe\n",
        "\n",
        "    print(\"Dica:\", dica)\n",
        "\n",
        "else:\n",
        "    print(f\"\\n😢 Suas tentativas acabaram! A palavra era: {palavra_certa.upper()}\")\n"
      ]
    },
    {
      "cell_type": "code",
      "source": [],
      "metadata": {
        "id": "fA0URlqKEXMM"
      },
      "execution_count": null,
      "outputs": []
    }
  ]
}